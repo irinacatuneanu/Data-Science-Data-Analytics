{
 "cells": [
  {
   "cell_type": "code",
   "execution_count": 1,
   "metadata": {},
   "outputs": [],
   "source": [
    "from requests import get"
   ]
  },
  {
   "cell_type": "code",
   "execution_count": 2,
   "metadata": {},
   "outputs": [],
   "source": [
    "url = 'https://www.tutorialspoint.com/apache_oozie/apache_oozie_introduction.htm'\n",
    "response = get(url)"
   ]
  },
  {
   "cell_type": "code",
   "execution_count": 7,
   "metadata": {},
   "outputs": [
    {
     "name": "stdout",
     "output_type": "stream",
     "text": [
      "<!DOCTYPE html>\r\n",
      "<html lang=\"en-US\">\r\n",
      "<head>\r\n",
      "<title>Apache Oozie - Introduction - Tutorialspoint</title>\r\n",
      "<meta charset=\"utf-8\">\r\n",
      "<meta name=\"description\" content=\"Apache Oozie - Introduction - In this chapter, we will start with the fundamentals of Apache Oozie. Following is a detailed explanation about Oozie along with a few examples and screenshots \"/>\r\n",
      "<meta name=\"keywords\" content=\"C, C++, Python, Java, HTML, CSS, JavaScript, SQL, PHP, jQuery, XML, DOM, Bootstrap, Tutorials, Articles, Programming, training, learning, quiz, preferences, examples, code\"/>\r\n",
      "<link rel=\"canonical\" href=\"https://www.tutorialspoint.com/apache_oozie/apache_oozie_introduction.htm\" />\r\n",
      "<link rel=\"shortcut icon\" href=\"/favicon.ico\" type=\"image/x-icon\" />\n",
      "<meta name=\"viewport\" content=\"width=device-width,initial-scale=1.0,user-scalable=yes\">\n",
      "<link rel=\"stylesheet\" href=\"/themes/css/style-min-v1.css?v=3.1.2.335\">\n",
      "<script src=\"/themes/js/script-min-v1.js?v=3.0.2040221\"></script>\n",
      "<script>\n",
      "function printPage() { window.print(); }\n",
      "function readCookie(name) {\n",
      "     var nameEQ = name + \"=\";\n",
      "     var ca = document.cookie.split(';');\n",
      "     for (var i = 0; i < ca.length; i++) {\n",
      "          var c = ca[i];\n",
      "          while (c.charAt(0) == ' ') c = c.substring(1, c.length);\n",
      "          if (c.indexOf(nameEQ) == 0) return c.substring(nameEQ.length, c.length);\n",
      "     }\n",
      "     return null;\n",
      "}\n",
      "</script>\n",
      "<script id=\"vi1\" type=\"text/javascript\" src=\"//services.bilsyndication.com/adv1/?q=0a8a90220201327770f6c986bea026a3\" defer=\"\" async=\"\"></script>\n",
      "<script id=\"vi2\">\n",
      "var vitag = vitag || {};\n",
      "vitag.outStreamConfig = { enablePC:false, enableMobile:false};\n",
      "vitag.smartBannerConfig = { enablePC: false, enableMobile: true, disableHorizontalPosition: \"right left middle\", disableVerticalPosition: \"top middle\" };\n",
      "</script>\n",
      "<script id=\"adp\" data-cfasync=\"false\" type=\"text/javascript\">(function(w, d) {var cval = readCookie('subscription_purchased');if(cval == '1'){ return; } var s = d.createElement('script'); s.src = '//delivery.adrecover.com/18107/adRecover.js'; s.type = 'text/javascript'; s.async = true; (d.getElementsByTagName('head')[0] || d.getElementsByTagName('body')[0]).appendChild(s); })(window, document);\n",
      "</script>\n",
      "<style>\n",
      ".butnn-save a{color:#fff;} .notes_msg{color:green; margin-left:20px; margin-top:15px;}\n",
      ".right-menu .mui-btn {\n",
      "    background-color:#036db0;\n",
      "}\n",
      "a.demo {\n",
      "    background:#036db0;\n",
      "}\n",
      "li.heading {\n",
      "    background:#036db0;\n",
      "}\n",
      ".course-box{background:#036db0}\n",
      ".home-intro-sub p{color:#036db0}\n",
      "</style>\n",
      "</head>\n",
      "<body>\n",
      "<header id=\"header\">\n",
      "<!-- pop-up -->\n",
      "<div class=\"pop-modal overlay-pop popdiv\">\n",
      "<div class=\"modal-window small\">\n",
      "<span class=\"close\" title=\"close\">×</span>\n",
      "<div class=\"pop-content\">\n",
      "</div>\n",
      "<span class=\"msg\" ></span>\n",
      "</div>\n",
      "</div>\n",
      "<div class=\"wrap_loader\">\n",
      "<div class=\"imgLoader\"><img src=\"/videotutorials/images/loader.gif\" alt=\"Tutorialspoint\" width=\"70\" height=\"70\"></div>\n",
      "</div>\n",
      "<input type=\"hidden\" id=\"vu\" name=\"vu\" value=\"\" />\n",
      "<!-- pop-up -->\n",
      "\n",
      "<!-- Top sub-menu Starts Here -->\n",
      "<div class=\"mui-appbar mui-container-fulid top-menu\">\n",
      "<div class=\"mui-container\">\n",
      "<div class=\"top-menu-item home\">\n",
      "<a href=\"https://www.tutorialspoint.com/index.htm\" target=\"_blank\" title=\"TutorialsPoint - Home\"><i class=\"fal fa-home\"></i> <span>Home</span></a>\n",
      "</div>\n",
      "<div class=\"top-menu-item qa\">\n",
      "<a href=\"https://www.tutorialspoint.com/about/about_careers.htm\" target=\"_blank\" title=\"Job @ Tutorials Point\"><i class=\"fa fa-suitcase\"></i> <span>Jobs</span></a>\n",
      "</div>\n",
      "<div class=\"top-menu-item tools\">\n",
      "<a href=\"https://www.tutorialspoint.com/online_dev_tools.htm\" target=\"_blank\" title=\"Tools - Online Development and Testing Tools\"><i class=\"fal fa-cogs\"></i> <span>Tools</span></a>\n",
      "</div>\n",
      "<div class=\"top-menu-item coding-ground\">\n",
      "<a href=\"https://www.tutorialspoint.com/codingground.htm\" target=\"_blank\" title=\"Coding Ground - Free Online IDE and Terminal\"><i class=\"fal fa-code\"></i> <span>Coding Ground </span></a> \n",
      "</div>\n",
      "<div class=\"top-menu-item current-affairs\">\n",
      "<a href=\"https://www.tutorialspoint.com/current_affairs.htm\" target=\"_blank\" title=\"Daily Current Affairs\"><i class=\"fal fa-layer-plus\"></i> <span>Current Affairs</span></a>\n",
      "</div>\n",
      "<div class=\"top-menu-item upsc-notes\">\n",
      "<a href=\"https://www.tutorialspoint.com/upsc_ias_exams.htm\" target=\"_blank\" title=\"UPSC IAS Exams Notes - TutorialsPoint\"><i class=\"fal fa-user-tie\"></i> <span>UPSC Notes</span></a>\n",
      "</div>      \n",
      "<div class=\"top-menu-item articles\">\n",
      "<a href=\"https://www.tutorialspoint.com/tutor_connect/index.php\" target=\"_blank\" title=\"Top Online Tutors - Tutor Connect\"><i class=\"fal fa-user\"></i> <span>Online Tutors</span></a>\n",
      "</div>\n",
      "<div class=\"top-menu-item whiteboard\">\n",
      "<a href=\"https://www.tutorialspoint.com/whiteboard.htm\" target=\"_blank\" title=\"Free Online Whiteboard\"><i class=\"fal fa-chalkboard\"></i> <span>Whiteboard</span></a>\n",
      "</div>\n",
      "<div class=\"top-menu-item net-meeting\">\n",
      "<a href=\"https://www.tutorialspoint.com/netmeeting.php\" target=\"_blank\" title=\"A free tool for online video conferencing\"><i class=\"fal fa-chalkboard-teacher\"></i> <span>Net Meeting</span></a> \n",
      "</div>\n",
      "<div class=\"top-menu-item articles\">\n",
      "<a href=\"https://www.tutorix.com\" target=\"_blank\" title=\"Tutorx - The Best Learning App\" rel=\"nofollow\"><i class=\"fal fa-video\"></i> <span>Tutorix</span></a> \n",
      "</div>        \n",
      "<div class=\"top-menu-item qa login\">\n",
      "<a href=\"/videotutorials/login.php\" target=\"_blank\" title=\"Tutorials Point - Login\"><i class=\"fa fa-sign-in-alt\"></i> <span>Login</span></a> \n",
      "</div>        \n",
      "<div class=\"top-menu-item qa login\">\n",
      "<a href=\"/videotutorials/subscription.php\" target=\"_blank\" title=\"Paid Package\"><i class=\"fa fa-book-reader\"></i> <span>Packages</span></a> \n",
      "</div>        \n",
      "<div class=\"social-menu-item\">\n",
      "<a href=\"https://www.facebook.com/tutorialspointindia\" target=\"_blank\" rel=\"nofollow\" data-placement=\"bottom\" title=\"tutorialspoint @ Facebook\"><i class=\"fab fa-facebook-f\"></i></a> \n",
      "<a href=\"https://www.twitter.com/tutorialspoint\" target=\"_blank\" rel=\"nofollow\" data-placement=\"bottom\" title=\"tutorialspoint @ Twitter\"><i class=\"fab fa-twitter\"></i></a>\n",
      "<a href=\"https://www.linkedin.com/company/tutorialspoint\" target=\"_blank\" rel=\"nofollow\" data-placement=\"bottom\" title=\"tutorialspoint @ Linkedin\"><i class=\"fab fa-linkedin-in\"></i></a>\n",
      "<a href=\"https://www.youtube.com/channel/UCVLbzhxVTiTLiVKeGV7WEBg\" target=\"_blank\" rel=\"nofollow\" data-placement=\"bottom\" title=\"tutorialspoint YouTube\"><i class=\"fab fa-youtube\"></i></a>\n",
      "</div>        \n",
      "</div>\n",
      "</div>\n",
      "<!-- Top sub-menu Ends Here -->\n",
      "<!-- Top main-menu Starts Here -->\n",
      "<div class=\"mui-appbar mui-container-fulid mui--appbar-line-height mui--z1\" id=\"logo-menu\">\n",
      "<div class=\"mui-container\">\n",
      "<div class=\"left-menu\">\n",
      "<a href=\"https://www.tutorialspoint.com/index.htm\" title=\"Tutorialspoint\">\n",
      "<img class=\"tp-logo\" alt=\"tutorialspoint\" src=\"/apache_oozie/images/logo.png\">\n",
      "</a>\n",
      "<div class=\"mui-dropdown\">\n",
      "<a class=\"mui-btn mui-btn--primary categories\" data-mui-toggle=\"dropdown\"><i class=\"fa fa-th-large\"></i> \n",
      "<span>Categories <span class=\"mui-caret\"></span></span></a>            \n",
      "<ul class=\"mui-dropdown__menu cat-menu\">\n",
      "<li>\n",
      "<ul>\n",
      "<li><a href=\"/academic_tutorials.htm\"><i class=\"fa fa-caret-right\"></i> Academic Tutorials</a></li>\n",
      "<li><a href=\"/big_data_tutorials.htm\"><i class=\"fa fa-caret-right\"></i> Big Data &amp; Analytics </a></li>\n",
      "<li><a href=\"/computer_programming_tutorials.htm\"><i class=\"fa fa-caret-right\"></i> Computer Programming </a></li>\n",
      "<li><a href=\"/computer_science_tutorials.htm\"><i class=\"fa fa-caret-right\"></i> Computer Science </a></li>\n",
      "<li><a href=\"/database_tutorials.htm\"><i class=\"fa fa-caret-right\"></i> Databases </a></li>\n",
      "<li><a href=\"/devops_tutorials.htm\"><i class=\"fa fa-caret-right\"></i> DevOps </a></li>\n",
      "<li><a href=\"/digital_marketing_tutorials.htm\"><i class=\"fa fa-caret-right\"></i> Digital Marketing </a></li>\n",
      "<li><a href=\"/engineering_tutorials.htm\"><i class=\"fa fa-caret-right\"></i> Engineering Tutorials </a></li>\n",
      "<li><a href=\"/upsc_ias_exams.htm\"><i class=\"fa fa-caret-right\"></i> Exams Syllabus </a></li>\n",
      "<li><a href=\"/famous_monuments.htm\"><i class=\"fa fa-caret-right\"></i> Famous Monuments </a></li>\n",
      "<li><a href=\"/gate_exams_tutorials.htm\"><i class=\"fa fa-caret-right\"></i> GATE Exams Tutorials</a></li>\n",
      "<li><a href=\"/latest_technologies.htm\"><i class=\"fa fa-caret-right\"></i> Latest Technologies </a></li>\n",
      "<li><a href=\"/machine_learning_tutorials.htm\"><i class=\"fa fa-caret-right\"></i> Machine Learning </a></li>\n",
      "<li><a href=\"/mainframe_tutorials.htm\"><i class=\"fa fa-caret-right\"></i> Mainframe Development </a></li>\n",
      "<li><a href=\"/management_tutorials.htm\"><i class=\"fa fa-caret-right\"></i> Management Tutorials </a></li>\n",
      "<li><a href=\"/maths_tutorials.htm\"><i class=\"fa fa-caret-right\"></i> Mathematics Tutorials</a></li>\n",
      "<li><a href=\"/microsoft_technologies_tutorials.htm\"><i class=\"fa fa-caret-right\"></i> Microsoft Technologies </a></li>\n",
      "<li><a href=\"/misc_tutorials.htm\"><i class=\"fa fa-caret-right\"></i> Misc tutorials </a></li>\n",
      "<li><a href=\"/mobile_development_tutorials.htm\"><i class=\"fa fa-caret-right\"></i> Mobile Development </a></li>\n",
      "<li><a href=\"/java_technology_tutorials.htm\"><i class=\"fa fa-caret-right\"></i> Java Technologies </a></li>\n",
      "<li><a href=\"/python_technologies_tutorials.htm\"><i class=\"fa fa-caret-right\"></i> Python Technologies </a></li>\n",
      "<li><a href=\"/sap_tutorials.htm\"><i class=\"fa fa-caret-right\"></i> SAP Tutorials </a></li>\n",
      "<li><a href=\"/scripting_lnaguage_tutorials.htm\"><i class=\"fa fa-caret-right\"></i>Programming Scripts </a></li>\n",
      "<li><a href=\"/selected_reading.htm\"><i class=\"fa fa-caret-right\"></i> Selected Reading </a></li>\n",
      "<li><a href=\"/software_quality_tutorials.htm\"><i class=\"fa fa-caret-right\"></i> Software Quality </a></li>\n",
      "<li><a href=\"/soft_skill_tutorials.htm\"><i class=\"fa fa-caret-right\"></i> Soft Skills </a></li>\n",
      "<li><a href=\"/telecom_tutorials.htm\"><i class=\"fa fa-caret-right\"></i> Telecom Tutorials </a></li>\n",
      "<li><a href=\"/upsc_ias_exams.htm\"><i class=\"fa fa-caret-right\"></i> UPSC IAS Exams </a></li>\n",
      "<li><a href=\"/web_development_tutorials.htm\"><i cl\n"
     ]
    }
   ],
   "source": [
    "print(response.text[:10000])"
   ]
  },
  {
   "cell_type": "markdown",
   "metadata": {},
   "source": [
    "# Use Beautifulsoup to look at different parts of the file"
   ]
  },
  {
   "cell_type": "code",
   "execution_count": 4,
   "metadata": {},
   "outputs": [
    {
     "data": {
      "text/plain": [
       "bs4.BeautifulSoup"
      ]
     },
     "execution_count": 4,
     "metadata": {},
     "output_type": "execute_result"
    }
   ],
   "source": [
    "from bs4 import BeautifulSoup\n",
    "html_soup = BeautifulSoup(response.text, 'html.parser')\n",
    "type(html_soup)"
   ]
  },
  {
   "cell_type": "markdown",
   "metadata": {},
   "source": [
    "We can use classes to capture different things inside the file"
   ]
  },
  {
   "cell_type": "code",
   "execution_count": 26,
   "metadata": {},
   "outputs": [],
   "source": [
    "containers = html_soup.find_all('div', class_ = 'top-menu-item home')\n",
    "containers2 = html_soup.find_all('ul', class_ = 'mui-dropdown__menu cat-menu')"
   ]
  },
  {
   "cell_type": "code",
   "execution_count": 27,
   "metadata": {},
   "outputs": [
    {
     "data": {
      "text/plain": [
       "bs4.element.ResultSet"
      ]
     },
     "execution_count": 27,
     "metadata": {},
     "output_type": "execute_result"
    }
   ],
   "source": [
    "type(containers)"
   ]
  },
  {
   "cell_type": "code",
   "execution_count": 28,
   "metadata": {},
   "outputs": [
    {
     "data": {
      "text/plain": [
       "1"
      ]
     },
     "execution_count": 28,
     "metadata": {},
     "output_type": "execute_result"
    }
   ],
   "source": [
    "len(containers)"
   ]
  },
  {
   "cell_type": "code",
   "execution_count": 29,
   "metadata": {},
   "outputs": [
    {
     "data": {
      "text/plain": [
       "1"
      ]
     },
     "execution_count": 29,
     "metadata": {},
     "output_type": "execute_result"
    }
   ],
   "source": [
    "len(containers2)"
   ]
  },
  {
   "cell_type": "code",
   "execution_count": 30,
   "metadata": {},
   "outputs": [
    {
     "data": {
      "text/plain": [
       "[<div class=\"top-menu-item home\">\n",
       " <a href=\"https://www.tutorialspoint.com/index.htm\" target=\"_blank\" title=\"TutorialsPoint - Home\"><i class=\"fal fa-home\"></i> <span>Home</span></a>\n",
       " </div>]"
      ]
     },
     "execution_count": 30,
     "metadata": {},
     "output_type": "execute_result"
    }
   ],
   "source": [
    "containers"
   ]
  },
  {
   "cell_type": "markdown",
   "metadata": {},
   "source": [
    "# Containers2"
   ]
  },
  {
   "cell_type": "markdown",
   "metadata": {},
   "source": [
    "# containers2"
   ]
  },
  {
   "cell_type": "code",
   "execution_count": 33,
   "metadata": {},
   "outputs": [],
   "source": [
    "first = containers2[0]"
   ]
  },
  {
   "cell_type": "markdown",
   "metadata": {},
   "source": [
    "# First element of containers2"
   ]
  },
  {
   "cell_type": "code",
   "execution_count": 34,
   "metadata": {},
   "outputs": [
    {
     "data": {
      "text/plain": [
       "<li>\n",
       "<ul>\n",
       "<li><a href=\"/academic_tutorials.htm\"><i class=\"fa fa-caret-right\"></i> Academic Tutorials</a></li>\n",
       "<li><a href=\"/big_data_tutorials.htm\"><i class=\"fa fa-caret-right\"></i> Big Data &amp; Analytics </a></li>\n",
       "<li><a href=\"/computer_programming_tutorials.htm\"><i class=\"fa fa-caret-right\"></i> Computer Programming </a></li>\n",
       "<li><a href=\"/computer_science_tutorials.htm\"><i class=\"fa fa-caret-right\"></i> Computer Science </a></li>\n",
       "<li><a href=\"/database_tutorials.htm\"><i class=\"fa fa-caret-right\"></i> Databases </a></li>\n",
       "<li><a href=\"/devops_tutorials.htm\"><i class=\"fa fa-caret-right\"></i> DevOps </a></li>\n",
       "<li><a href=\"/digital_marketing_tutorials.htm\"><i class=\"fa fa-caret-right\"></i> Digital Marketing </a></li>\n",
       "<li><a href=\"/engineering_tutorials.htm\"><i class=\"fa fa-caret-right\"></i> Engineering Tutorials </a></li>\n",
       "<li><a href=\"/upsc_ias_exams.htm\"><i class=\"fa fa-caret-right\"></i> Exams Syllabus </a></li>\n",
       "<li><a href=\"/famous_monuments.htm\"><i class=\"fa fa-caret-right\"></i> Famous Monuments </a></li>\n",
       "<li><a href=\"/gate_exams_tutorials.htm\"><i class=\"fa fa-caret-right\"></i> GATE Exams Tutorials</a></li>\n",
       "<li><a href=\"/latest_technologies.htm\"><i class=\"fa fa-caret-right\"></i> Latest Technologies </a></li>\n",
       "<li><a href=\"/machine_learning_tutorials.htm\"><i class=\"fa fa-caret-right\"></i> Machine Learning </a></li>\n",
       "<li><a href=\"/mainframe_tutorials.htm\"><i class=\"fa fa-caret-right\"></i> Mainframe Development </a></li>\n",
       "<li><a href=\"/management_tutorials.htm\"><i class=\"fa fa-caret-right\"></i> Management Tutorials </a></li>\n",
       "<li><a href=\"/maths_tutorials.htm\"><i class=\"fa fa-caret-right\"></i> Mathematics Tutorials</a></li>\n",
       "<li><a href=\"/microsoft_technologies_tutorials.htm\"><i class=\"fa fa-caret-right\"></i> Microsoft Technologies </a></li>\n",
       "<li><a href=\"/misc_tutorials.htm\"><i class=\"fa fa-caret-right\"></i> Misc tutorials </a></li>\n",
       "<li><a href=\"/mobile_development_tutorials.htm\"><i class=\"fa fa-caret-right\"></i> Mobile Development </a></li>\n",
       "<li><a href=\"/java_technology_tutorials.htm\"><i class=\"fa fa-caret-right\"></i> Java Technologies </a></li>\n",
       "<li><a href=\"/python_technologies_tutorials.htm\"><i class=\"fa fa-caret-right\"></i> Python Technologies </a></li>\n",
       "<li><a href=\"/sap_tutorials.htm\"><i class=\"fa fa-caret-right\"></i> SAP Tutorials </a></li>\n",
       "<li><a href=\"/scripting_lnaguage_tutorials.htm\"><i class=\"fa fa-caret-right\"></i>Programming Scripts </a></li>\n",
       "<li><a href=\"/selected_reading.htm\"><i class=\"fa fa-caret-right\"></i> Selected Reading </a></li>\n",
       "<li><a href=\"/software_quality_tutorials.htm\"><i class=\"fa fa-caret-right\"></i> Software Quality </a></li>\n",
       "<li><a href=\"/soft_skill_tutorials.htm\"><i class=\"fa fa-caret-right\"></i> Soft Skills </a></li>\n",
       "<li><a href=\"/telecom_tutorials.htm\"><i class=\"fa fa-caret-right\"></i> Telecom Tutorials </a></li>\n",
       "<li><a href=\"/upsc_ias_exams.htm\"><i class=\"fa fa-caret-right\"></i> UPSC IAS Exams </a></li>\n",
       "<li><a href=\"/web_development_tutorials.htm\"><i class=\"fa fa-caret-right\"></i> Web Development </a></li>\n",
       "<li><a href=\"/sports_tutorials.htm\"><i class=\"fa fa-caret-right\"></i> Sports Tutorials </a></li>\n",
       "<li><a href=\"/xml_technologies_tutorials.htm\"><i class=\"fa fa-caret-right\"></i> XML Technologies </a></li>\n",
       "<li><a href=\"/multi_language_tutorials.htm\"><i class=\"fa fa-caret-right\"></i> Multi-Language</a></li>\n",
       "<li><a href=\"/questions_and_answers.htm\"><i class=\"fa fa-caret-right\"></i> Interview Questions</a></li>\n",
       "</ul>\n",
       "</li>"
      ]
     },
     "execution_count": 34,
     "metadata": {},
     "output_type": "execute_result"
    }
   ],
   "source": [
    "first.li"
   ]
  },
  {
   "cell_type": "code",
   "execution_count": 35,
   "metadata": {},
   "outputs": [
    {
     "data": {
      "text/plain": [
       "<a href=\"/academic_tutorials.htm\"><i class=\"fa fa-caret-right\"></i> Academic Tutorials</a>"
      ]
     },
     "execution_count": 35,
     "metadata": {},
     "output_type": "execute_result"
    }
   ],
   "source": [
    "first.a"
   ]
  },
  {
   "cell_type": "code",
   "execution_count": 36,
   "metadata": {},
   "outputs": [
    {
     "data": {
      "text/plain": [
       "<ul>\n",
       "<li><a href=\"/academic_tutorials.htm\"><i class=\"fa fa-caret-right\"></i> Academic Tutorials</a></li>\n",
       "<li><a href=\"/big_data_tutorials.htm\"><i class=\"fa fa-caret-right\"></i> Big Data &amp; Analytics </a></li>\n",
       "<li><a href=\"/computer_programming_tutorials.htm\"><i class=\"fa fa-caret-right\"></i> Computer Programming </a></li>\n",
       "<li><a href=\"/computer_science_tutorials.htm\"><i class=\"fa fa-caret-right\"></i> Computer Science </a></li>\n",
       "<li><a href=\"/database_tutorials.htm\"><i class=\"fa fa-caret-right\"></i> Databases </a></li>\n",
       "<li><a href=\"/devops_tutorials.htm\"><i class=\"fa fa-caret-right\"></i> DevOps </a></li>\n",
       "<li><a href=\"/digital_marketing_tutorials.htm\"><i class=\"fa fa-caret-right\"></i> Digital Marketing </a></li>\n",
       "<li><a href=\"/engineering_tutorials.htm\"><i class=\"fa fa-caret-right\"></i> Engineering Tutorials </a></li>\n",
       "<li><a href=\"/upsc_ias_exams.htm\"><i class=\"fa fa-caret-right\"></i> Exams Syllabus </a></li>\n",
       "<li><a href=\"/famous_monuments.htm\"><i class=\"fa fa-caret-right\"></i> Famous Monuments </a></li>\n",
       "<li><a href=\"/gate_exams_tutorials.htm\"><i class=\"fa fa-caret-right\"></i> GATE Exams Tutorials</a></li>\n",
       "<li><a href=\"/latest_technologies.htm\"><i class=\"fa fa-caret-right\"></i> Latest Technologies </a></li>\n",
       "<li><a href=\"/machine_learning_tutorials.htm\"><i class=\"fa fa-caret-right\"></i> Machine Learning </a></li>\n",
       "<li><a href=\"/mainframe_tutorials.htm\"><i class=\"fa fa-caret-right\"></i> Mainframe Development </a></li>\n",
       "<li><a href=\"/management_tutorials.htm\"><i class=\"fa fa-caret-right\"></i> Management Tutorials </a></li>\n",
       "<li><a href=\"/maths_tutorials.htm\"><i class=\"fa fa-caret-right\"></i> Mathematics Tutorials</a></li>\n",
       "<li><a href=\"/microsoft_technologies_tutorials.htm\"><i class=\"fa fa-caret-right\"></i> Microsoft Technologies </a></li>\n",
       "<li><a href=\"/misc_tutorials.htm\"><i class=\"fa fa-caret-right\"></i> Misc tutorials </a></li>\n",
       "<li><a href=\"/mobile_development_tutorials.htm\"><i class=\"fa fa-caret-right\"></i> Mobile Development </a></li>\n",
       "<li><a href=\"/java_technology_tutorials.htm\"><i class=\"fa fa-caret-right\"></i> Java Technologies </a></li>\n",
       "<li><a href=\"/python_technologies_tutorials.htm\"><i class=\"fa fa-caret-right\"></i> Python Technologies </a></li>\n",
       "<li><a href=\"/sap_tutorials.htm\"><i class=\"fa fa-caret-right\"></i> SAP Tutorials </a></li>\n",
       "<li><a href=\"/scripting_lnaguage_tutorials.htm\"><i class=\"fa fa-caret-right\"></i>Programming Scripts </a></li>\n",
       "<li><a href=\"/selected_reading.htm\"><i class=\"fa fa-caret-right\"></i> Selected Reading </a></li>\n",
       "<li><a href=\"/software_quality_tutorials.htm\"><i class=\"fa fa-caret-right\"></i> Software Quality </a></li>\n",
       "<li><a href=\"/soft_skill_tutorials.htm\"><i class=\"fa fa-caret-right\"></i> Soft Skills </a></li>\n",
       "<li><a href=\"/telecom_tutorials.htm\"><i class=\"fa fa-caret-right\"></i> Telecom Tutorials </a></li>\n",
       "<li><a href=\"/upsc_ias_exams.htm\"><i class=\"fa fa-caret-right\"></i> UPSC IAS Exams </a></li>\n",
       "<li><a href=\"/web_development_tutorials.htm\"><i class=\"fa fa-caret-right\"></i> Web Development </a></li>\n",
       "<li><a href=\"/sports_tutorials.htm\"><i class=\"fa fa-caret-right\"></i> Sports Tutorials </a></li>\n",
       "<li><a href=\"/xml_technologies_tutorials.htm\"><i class=\"fa fa-caret-right\"></i> XML Technologies </a></li>\n",
       "<li><a href=\"/multi_language_tutorials.htm\"><i class=\"fa fa-caret-right\"></i> Multi-Language</a></li>\n",
       "<li><a href=\"/questions_and_answers.htm\"><i class=\"fa fa-caret-right\"></i> Interview Questions</a></li>\n",
       "</ul>"
      ]
     },
     "execution_count": 36,
     "metadata": {},
     "output_type": "execute_result"
    }
   ],
   "source": [
    "first.ul"
   ]
  },
  {
   "cell_type": "markdown",
   "metadata": {},
   "source": [
    "# Search the heading"
   ]
  },
  {
   "cell_type": "code",
   "execution_count": 39,
   "metadata": {},
   "outputs": [
    {
     "name": "stdout",
     "output_type": "stream",
     "text": [
      "None\n"
     ]
    }
   ],
   "source": [
    "print(first.find('li',class_ = 'heading'))"
   ]
  },
  {
   "cell_type": "code",
   "execution_count": 42,
   "metadata": {},
   "outputs": [],
   "source": [
    "heading = first.find('li',class_='heading')\n",
    "#print(heading.text)"
   ]
  },
  {
   "cell_type": "code",
   "execution_count": null,
   "metadata": {},
   "outputs": [],
   "source": []
  }
 ],
 "metadata": {
  "kernelspec": {
   "display_name": "Python 3",
   "language": "python",
   "name": "python3"
  },
  "language_info": {
   "codemirror_mode": {
    "name": "ipython",
    "version": 3
   },
   "file_extension": ".py",
   "mimetype": "text/x-python",
   "name": "python",
   "nbconvert_exporter": "python",
   "pygments_lexer": "ipython3",
   "version": "3.7.4"
  }
 },
 "nbformat": 4,
 "nbformat_minor": 2
}
